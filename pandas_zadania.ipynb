{
 "cells": [
  {
   "cell_type": "markdown",
   "metadata": {},
   "source": [
    "map vs apply vs applymap\n",
    "https://stackoverflow.com/questions/19798153/difference-between-map-applymap-and-apply-methods-in-pandas"
   ]
  },
  {
   "cell_type": "markdown",
   "metadata": {
    "id": "G_YbltYAslV4"
   },
   "source": [
    "# Przygotowania\n",
    "\n",
    "- Zaimportuj niezbędne biblioteki zgodnie z konwencją\n",
    "\n",
    "```\n",
    "import numpy as np\n",
    "import pandas as pd\n",
    "import os \n",
    "\n",
    "pd.__version__\n",
    "```\n",
    "\n",
    "- Sprawdz strukture plikow, wyswietl zawartosc bieżącego katalogu <br>\n",
    "  ```os.getcwd()```, ```os.listdir()```\n",
    "- Stworz katalog ```'outputs'``` <br>\n",
    "  ```os.mkdir('outputs')```\n",
    "- sklonuj repozytorium do bieżącego katalogu i upewnij się, jak wygląda teraz strukutra plików <br> ```!git clone https://github.com/matzim95/ML-datasets```\n",
    "\n",
    "\n"
   ]
  },
  {
   "cell_type": "markdown",
   "metadata": {
    "id": "aXowVIFDbrac"
   },
   "source": [
    "# Rozgrzewka\n",
    "Stwórz ```pd.dataFrame``` o wymiarach ```(5,3)``` za pomoca:\n",
    "- podania wartosci <br>```[[],[]]```\n",
    "- slownika <br>``` {k1:v1,k2:v2}```\n",
    "- np.array <br>```np.array((a,b,c))```\n",
    "- tablicy liczb losowych <br>```np.random.randn(nr,nc)```\n",
    "- ```pd.Series``` i ```np.reshape(a, (nr, nc)) ```\n",
    "\n",
    "<br>Dodaj dowolny index i nazwy kolumn.  \n",
    "Następnie zmien index na daty np.\n",
    "\n",
    "```dates = pd.date_range('2017', periods=5,freq='A-Jan')```\n",
    "\n",
    "Zapisz i odczytaj  tabele jako plik ```test_df.csv``` w katalogu ```outputs``` za pomocą:\n",
    "```\n",
    "df.to_csv()\n",
    "read_csv()\n",
    "```\n",
    "Wypróbuj różne separatory, również te niezgodne z zapisem. Zobacz jak wygląda tabela po wczytaniu. <br> \n",
    "```\n",
    "head()\n",
    "tail() \n",
    "sample()\n",
    "```"
   ]
  },
  {
   "cell_type": "markdown",
   "metadata": {
    "id": "yqK0UdFacK79"
   },
   "source": [
    "# Zadanie 1\n",
    "\n",
    "Stwórz dataframe df z dzięsięcioma imionami uczniów i uczennic oraz liczbą \n",
    "punktów, jakie uzyskali z egzaminu. Następnie sprawdź, jaka była średnia i \n",
    "mediana wyników.\n",
    "\n",
    "Możesz użyć pliku z imionami z katalogu ML-datasets\n",
    "Maksymalna ilosc punktow przyjmijmy 100:\n",
    "```\n",
    "MaxPoints = 100\n",
    "```"
   ]
  },
  {
   "cell_type": "markdown",
   "metadata": {
    "id": "7K0yfs0yxjrm"
   },
   "source": [
    "# Zadanie 2\n",
    "Bazując na ramce danych utworzonej w poprzednim zadaniu, wyświetl \n",
    "czwarty wiersz. Następnie zapisz do osobnej ramki tych uczniów, którzy \n",
    "uzyskali wynik powyżej średniej."
   ]
  },
  {
   "cell_type": "markdown",
   "metadata": {
    "id": "rNK1bpeVxTot"
   },
   "source": [
    "# Zadanie 3\n",
    "Dodaj do ramki trzecią kolumnę, w której znajdzie się procentowy wynik \n",
    "uczniów i uczennic z tego egzaminu (to znaczy, że każda wartość liczbowa musi \n",
    "zostać podzielona przez maksimum punktów, jakie można było na tym \n",
    "egzaminie uzyskać). \n",
    "Następnie, chcemy zanonimizować kolumnę z imionami: chcemy, by została \n",
    "tylko pierwsza i ostatnia litera imienia. Np. dla imienia “Marcelina” chcemy \n",
    "zachować “M...a”"
   ]
  },
  {
   "cell_type": "markdown",
   "metadata": {
    "id": "mexpl_UDxTrD"
   },
   "source": [
    "# Zadanie 4\n",
    "Posortuj ramkę danych względem liczby punktów otrzymanych z \n",
    "egzaminu, od najwyższego do najniższego. W przypadku takiej samej \n",
    "liczby punktów, osoby mają zostać wyświetlone w kolejności \n",
    "alfabetycznej.\n",
    "\n",
    "https://pandas.pydata.org/docs/reference/api/pandas.DataFrame.sort_values.html"
   ]
  },
  {
   "cell_type": "markdown",
   "metadata": {
    "id": "Ee0Ed5AZxTs-"
   },
   "source": [
    "#Zadanie 5\n",
    "Połącz ze sobą dwie poniższe ramki.\n",
    "```\n",
    "student_data1 = pd.DataFrame({\n",
    " 'student_id': ['S1', 'S2', 'S3', 'S4', 'S5'],\n",
    " 'name': ['Danniella Fenton', 'Ryder Storey', 'Bryce Jensen', 'Ed Bernal', 'Kwame Morin']\n",
    " })\n",
    " \n",
    "student_data2 = pd.DataFrame({\n",
    " 'student_id': ['S6', 'S7', 'S8', 'S9', 'S10'],\n",
    " 'name': ['Scarlette Fisher', 'Carla Williamson', 'Dante Morse', 'Kaiser William', 'Madeeha Preston']\n",
    " })\n",
    " ```"
   ]
  },
  {
   "cell_type": "markdown",
   "metadata": {
    "id": "PFJy4Ql4xTvL"
   },
   "source": [
    "# Zadanie 6\n",
    "Do ramki utworzonej w poprzednim zadaniu dodaj informacje o \n",
    "rezultatach studentów z ramki poniżej.\n",
    "```\n",
    "exam_results = pd.DataFrame({\n",
    " 'student_id': ['S2', 'S10', 'S3', 'S1', 'S7', 'S9', 'S5', 'S4', 'S8', 'S6'],\n",
    " 'marks': [200, 210, 190, 222, 199, 201, 200, 198, 219, 201]\n",
    " })\n",
    "```\n",
    "https://pandas.pydata.org/docs/reference/api/pandas.merge.html#pandas.merge\n"
   ]
  }
 ],
 "metadata": {
  "colab": {
   "collapsed_sections": [],
   "name": "Zadania_Przetwarzanie_Zbiorow_Danych.ipynb",
   "provenance": []
  },
  "kernelspec": {
   "display_name": "Python 3 (ipykernel)",
   "language": "python",
   "name": "python3"
  },
  "language_info": {
   "codemirror_mode": {
    "name": "ipython",
    "version": 3
   },
   "file_extension": ".py",
   "mimetype": "text/x-python",
   "name": "python",
   "nbconvert_exporter": "python",
   "pygments_lexer": "ipython3",
   "version": "3.10.4"
  },
  "toc": {
   "base_numbering": 1,
   "nav_menu": {},
   "number_sections": true,
   "sideBar": true,
   "skip_h1_title": false,
   "title_cell": "Table of Contents",
   "title_sidebar": "Contents",
   "toc_cell": false,
   "toc_position": {},
   "toc_section_display": true,
   "toc_window_display": false
  }
 },
 "nbformat": 4,
 "nbformat_minor": 1
}
